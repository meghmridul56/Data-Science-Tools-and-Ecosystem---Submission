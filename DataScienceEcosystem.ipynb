{
 "cells": [
  {
   "cell_type": "markdown",
   "id": "3ada9ac0-d4d7-4922-a9fa-48971872a026",
   "metadata": {},
   "source": [
    "# Data Science Tools and Ecosystem"
   ]
  },
  {
   "cell_type": "markdown",
   "id": "222f3e18-5efc-4d30-8c4c-8c5bf263750b",
   "metadata": {},
   "source": [
    "In this notebook, Data Science Tools and Ecosystem are summarized."
   ]
  },
  {
   "cell_type": "markdown",
   "id": "b91c9223-c5d9-450b-a926-4f3b2fa71e84",
   "metadata": {},
   "source": [
    "Some of the popular languages that Data Scientists use are:\n",
    "1. R\n",
    "2. Python\n",
    "3. SQL"
   ]
  },
  {
   "cell_type": "markdown",
   "id": "e7ed1088-77ba-4c0d-a667-9832d8167e6c",
   "metadata": {},
   "source": [
    "Some of the commonly used libraries used by Data Scientists include:\n",
    "1. Pandas\n",
    "2. NumPy\n",
    "3. Matplotlib"
   ]
  },
  {
   "cell_type": "markdown",
   "id": "9b3f15ee-3c1e-428e-a993-f388b359bcff",
   "metadata": {},
   "source": [
    "Data Science Tools:\n",
    "1. Jupyter Notebook\n",
    "2. RStudio\n",
    "3. Spyder"
   ]
  },
  {
   "cell_type": "markdown",
   "id": "bc291284-920c-4dd7-8a29-c04bd55bc1cf",
   "metadata": {},
   "source": [
    "### Below are a few examples of evaluating arithmetic expressions in Python:\n"
   ]
  },
  {
   "cell_type": "code",
   "execution_count": 2,
   "id": "adfa325b-ee59-4359-aaea-f490e22614d7",
   "metadata": {},
   "outputs": [
    {
     "data": {
      "text/plain": [
       "17"
      ]
     },
     "execution_count": 2,
     "metadata": {},
     "output_type": "execute_result"
    }
   ],
   "source": [
    "(3*4)+5\n",
    "#This a simple arithmetic expression to mutiply then add integers"
   ]
  },
  {
   "cell_type": "code",
   "execution_count": 7,
   "id": "92e5d316-2edf-4381-bf40-d375d83503db",
   "metadata": {},
   "outputs": [
    {
     "name": "stdin",
     "output_type": "stream",
     "text": [
      "Enter Minutes:  200\n"
     ]
    },
    {
     "name": "stdout",
     "output_type": "stream",
     "text": [
      "3.3333333333333335\n"
     ]
    }
   ],
   "source": [
    "minutes = int(input(\"Enter Minutes: \"))\n",
    "hour = minutes / 60\n",
    "print(hour)\n",
    "#This will convert 200 minutes to hours by diving by 60"
   ]
  },
  {
   "cell_type": "markdown",
   "id": "fd3b896e-215c-4022-8d5c-28fe13207022",
   "metadata": {},
   "source": [
    "Objectives: List popular languages for Data Science\n",
    "\n",
    "1. Python\n",
    "2. R\n",
    "3. SQL\n",
    "4. Julia\n",
    "5. Scala"
   ]
  },
  {
   "cell_type": "markdown",
   "id": "379cd270-6ed4-4c39-b5b6-ca327c637a56",
   "metadata": {},
   "source": [
    "## Author:\n",
    "Megh Mridul Minz"
   ]
  },
  {
   "cell_type": "code",
   "execution_count": null,
   "id": "8ea66200-b8ae-4704-961f-4936409d0c77",
   "metadata": {},
   "outputs": [],
   "source": []
  }
 ],
 "metadata": {
  "kernelspec": {
   "display_name": "Python [conda env:base] *",
   "language": "python",
   "name": "conda-base-py"
  },
  "language_info": {
   "codemirror_mode": {
    "name": "ipython",
    "version": 3
   },
   "file_extension": ".py",
   "mimetype": "text/x-python",
   "name": "python",
   "nbconvert_exporter": "python",
   "pygments_lexer": "ipython3",
   "version": "3.13.5"
  }
 },
 "nbformat": 4,
 "nbformat_minor": 5
}
